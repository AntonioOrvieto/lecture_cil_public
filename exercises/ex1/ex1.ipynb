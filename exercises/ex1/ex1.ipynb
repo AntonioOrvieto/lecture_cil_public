{
 "cells": [
  {
   "cell_type": "markdown",
   "metadata": {},
   "source": [
    "Data Generation\n",
    "==="
   ]
  },
  {
   "cell_type": "code",
   "execution_count": 5,
   "metadata": {
    "collapsed": true
   },
   "outputs": [],
   "source": [
    "import numpy as np"
   ]
  },
  {
   "cell_type": "code",
   "execution_count": 6,
   "metadata": {
    "collapsed": true
   },
   "outputs": [],
   "source": [
    "num_samples, num_features = 10, 5"
   ]
  },
  {
   "cell_type": "code",
   "execution_count": 7,
   "metadata": {
    "collapsed": true
   },
   "outputs": [],
   "source": [
    "data = np.random.rand(num_samples, num_features)"
   ]
  },
  {
   "cell_type": "markdown",
   "metadata": {},
   "source": [
    "Solution\n",
    "==="
   ]
  },
  {
   "cell_type": "code",
   "execution_count": 8,
   "metadata": {
    "collapsed": false
   },
   "outputs": [
    {
     "name": "stdout",
     "output_type": "stream",
     "text": [
      "[[ 0.89540919  0.99306278  0.31493003  0.13516951  0.78112228]\n",
      " [ 0.63036902  0.90165584  0.59453916  0.72667905  0.38206684]\n",
      " [ 0.32829036  0.95228745  0.85018614  0.73847567  0.83561911]\n",
      " [ 0.84833396  0.46901049  0.6321082   0.75220496  0.00455738]\n",
      " [ 0.28457991  0.27311912  0.28619912  0.18454399  0.31200456]\n",
      " [ 0.16665562  0.31367895  0.87493093  0.95497325  0.19569434]\n",
      " [ 0.15760051  0.21974862  0.08599409  0.85564857  0.59133643]\n",
      " [ 0.10879539  0.8411658   0.30655631  0.40283226  0.973097  ]\n",
      " [ 0.63233506  0.39777186  0.71636225  0.69831436  0.41681957]\n",
      " [ 0.03931094  0.68769566  0.20611366  0.76288869  0.61921073]]\n"
     ]
    }
   ],
   "source": [
    "print(data)"
   ]
  },
  {
   "cell_type": "code",
   "execution_count": 9,
   "metadata": {
    "collapsed": false
   },
   "outputs": [],
   "source": [
    "centered_data = data - np.mean(data, axis=0)"
   ]
  },
  {
   "cell_type": "code",
   "execution_count": 10,
   "metadata": {
    "collapsed": true
   },
   "outputs": [],
   "source": [
    "std_data = centered_data / np.std(centered_data, axis=0)"
   ]
  },
  {
   "cell_type": "code",
   "execution_count": 12,
   "metadata": {
    "collapsed": false
   },
   "outputs": [
    {
     "name": "stdout",
     "output_type": "stream",
     "text": [
      "[[ 1.6215154   1.34996142 -0.6450709  -1.82520741  0.93649384]\n",
      " [ 0.73766039  1.03204819  0.40442088  0.39623246 -0.44778484]\n",
      " [-0.26971047  1.20814489  1.36397251  0.44053519  1.12553723]\n",
      " [ 1.46452908 -0.47269196  0.54543344  0.49209614 -1.7573229 ]\n",
      " [-0.41547589 -1.15400196 -0.75291017 -1.63977939 -0.69082303]\n",
      " [-0.8087294  -1.01293492  1.45685019  1.25360126 -1.09429018]\n",
      " [-0.83892636 -1.33962454 -1.50436466  0.8805831   0.27814796]\n",
      " [-1.00168148  0.82166386 -0.676501   -0.81998828  1.60243266]\n",
      " [ 0.74421672 -0.72045985  0.86167464  0.28970761 -0.32723151]\n",
      " [-1.23339798  0.28789488 -1.05350493  0.53221932  0.37484078]] \n",
      "\n",
      " [  3.77475828e-16   1.66533454e-17   1.99840144e-16   2.66453526e-16\n",
      "  -1.22124533e-16] \n",
      "\n",
      " [ 1.  1.  1.  1.  1.]\n"
     ]
    }
   ],
   "source": [
    "print(std_data, \"\\n\\n\", np.mean(std_data, axis=0), \"\\n\\n\", np.std(std_data, axis=0))"
   ]
  },
  {
   "cell_type": "code",
   "execution_count": null,
   "metadata": {
    "collapsed": true
   },
   "outputs": [],
   "source": []
  }
 ],
 "metadata": {
  "kernelspec": {
   "display_name": "Python 3",
   "language": "python",
   "name": "python3"
  },
  "language_info": {
   "codemirror_mode": {
    "name": "ipython",
    "version": 3
   },
   "file_extension": ".py",
   "mimetype": "text/x-python",
   "name": "python",
   "nbconvert_exporter": "python",
   "pygments_lexer": "ipython3",
   "version": "3.5.1"
  }
 },
 "nbformat": 4,
 "nbformat_minor": 0
}
