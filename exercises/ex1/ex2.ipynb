{
 "cells": [
  {
   "cell_type": "markdown",
   "metadata": {},
   "source": [
    "Data Generation\n",
    "==="
   ]
  },
  {
   "cell_type": "code",
   "execution_count": 2,
   "metadata": {
    "collapsed": true
   },
   "outputs": [],
   "source": [
    "import numpy as np\n",
    "import itertools"
   ]
  },
  {
   "cell_type": "code",
   "execution_count": 4,
   "metadata": {
    "collapsed": false
   },
   "outputs": [
    {
     "name": "stdout",
     "output_type": "stream",
     "text": [
      "[[ 0.22665952  0.76053546]\n",
      " [ 0.01665229  0.80832522]\n",
      " [ 0.4633109   0.68082056]\n",
      " [ 0.73680407  0.67818728]] \n",
      "\n",
      " [[ 0.51077588  0.8847029 ]\n",
      " [ 0.69688097  0.81875422]\n",
      " [ 0.48300976  0.19948024]\n",
      " [ 0.68153041  0.14995426]\n",
      " [ 0.48476282  0.3951631 ]]\n"
     ]
    }
   ],
   "source": [
    "p, q = (np.random.rand(i, 2) for i in (4, 5))\n",
    "\n",
    "print(p, \"\\n\\n\", q)"
   ]
  },
  {
   "cell_type": "markdown",
   "metadata": {},
   "source": [
    "Solution\n",
    "==="
   ]
  },
  {
   "cell_type": "code",
   "execution_count": 6,
   "metadata": {
    "collapsed": false
   },
   "outputs": [
    {
     "name": "stdout",
     "output_type": "stream",
     "text": [
      "[(0, 0), (0, 1), (0, 2), (0, 3), (0, 4), (1, 0), (1, 1), (1, 2), (1, 3), (1, 4), (2, 0), (2, 1), (2, 2), (2, 3), (2, 4), (3, 0), (3, 1), (3, 2), (3, 3), (3, 4)]\n"
     ]
    }
   ],
   "source": [
    "pairs = list(itertools.product(range(len(p)), range(len(q))))\n",
    "\n",
    "print(pairs)"
   ]
  },
  {
   "cell_type": "code",
   "execution_count": 8,
   "metadata": {
    "collapsed": false,
    "scrolled": true
   },
   "outputs": [
    {
     "name": "stdout",
     "output_type": "stream",
     "text": [
      "(0, 0, 0, 0, 0, 1, 1, 1, 1, 1, 2, 2, 2, 2, 2, 3, 3, 3, 3, 3) \n",
      "\n",
      " (0, 1, 2, 3, 4, 0, 1, 2, 3, 4, 0, 1, 2, 3, 4, 0, 1, 2, 3, 4)\n"
     ]
    }
   ],
   "source": [
    "p_inds, q_inds = zip(*pairs)\n",
    "\n",
    "print(p_inds, \"\\n\\n\", q_inds)"
   ]
  },
  {
   "cell_type": "code",
   "execution_count": 9,
   "metadata": {
    "collapsed": false
   },
   "outputs": [
    {
     "data": {
      "text/plain": [
       "array([[ 0.22665952,  0.76053546],\n",
       "       [ 0.22665952,  0.76053546],\n",
       "       [ 0.22665952,  0.76053546],\n",
       "       [ 0.22665952,  0.76053546],\n",
       "       [ 0.22665952,  0.76053546],\n",
       "       [ 0.01665229,  0.80832522],\n",
       "       [ 0.01665229,  0.80832522],\n",
       "       [ 0.01665229,  0.80832522],\n",
       "       [ 0.01665229,  0.80832522],\n",
       "       [ 0.01665229,  0.80832522],\n",
       "       [ 0.4633109 ,  0.68082056],\n",
       "       [ 0.4633109 ,  0.68082056],\n",
       "       [ 0.4633109 ,  0.68082056],\n",
       "       [ 0.4633109 ,  0.68082056],\n",
       "       [ 0.4633109 ,  0.68082056],\n",
       "       [ 0.73680407,  0.67818728],\n",
       "       [ 0.73680407,  0.67818728],\n",
       "       [ 0.73680407,  0.67818728],\n",
       "       [ 0.73680407,  0.67818728],\n",
       "       [ 0.73680407,  0.67818728]])"
      ]
     },
     "execution_count": 9,
     "metadata": {},
     "output_type": "execute_result"
    }
   ],
   "source": [
    "p[p_inds, :]"
   ]
  },
  {
   "cell_type": "code",
   "execution_count": 16,
   "metadata": {
    "collapsed": false
   },
   "outputs": [
    {
     "name": "stdout",
     "output_type": "stream",
     "text": [
      "[ 0.31006396  0.47381182  0.61684552  0.76139144  0.44734134  0.49999167\n",
      "  0.68030862  0.76692992  0.93568972  0.62436401  0.2093345   0.27125757\n",
      "  0.48174324  0.57396759  0.28646182  0.30616572  0.14612638  0.54182283\n",
      "  0.53111703  0.37898216]\n"
     ]
    }
   ],
   "source": [
    "distances = np.sqrt(np.sum((p[p_inds, :] - q[q_inds, :])**2, axis=1)) # alternatively np.linalg.norm\n",
    "\n",
    "print(distances)"
   ]
  },
  {
   "cell_type": "code",
   "execution_count": 18,
   "metadata": {
    "collapsed": false
   },
   "outputs": [
    {
     "name": "stdout",
     "output_type": "stream",
     "text": [
      "[[ 0.31006396  0.47381182  0.61684552  0.76139144  0.44734134]\n",
      " [ 0.49999167  0.68030862  0.76692992  0.93568972  0.62436401]\n",
      " [ 0.2093345   0.27125757  0.48174324  0.57396759  0.28646182]\n",
      " [ 0.30616572  0.14612638  0.54182283  0.53111703  0.37898216]]\n"
     ]
    }
   ],
   "source": [
    "distances = np.reshape(distances, (len(p), len(q)))\n",
    "\n",
    "print(distances)"
   ]
  },
  {
   "cell_type": "code",
   "execution_count": null,
   "metadata": {
    "collapsed": true
   },
   "outputs": [],
   "source": []
  }
 ],
 "metadata": {
  "kernelspec": {
   "display_name": "Python 3",
   "language": "python",
   "name": "python3"
  },
  "language_info": {
   "codemirror_mode": {
    "name": "ipython",
    "version": 3
   },
   "file_extension": ".py",
   "mimetype": "text/x-python",
   "name": "python",
   "nbconvert_exporter": "python",
   "pygments_lexer": "ipython3",
   "version": "3.5.1"
  }
 },
 "nbformat": 4,
 "nbformat_minor": 0
}
